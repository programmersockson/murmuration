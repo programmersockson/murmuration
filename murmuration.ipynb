{
 "cells": [
  {
   "cell_type": "code",
   "execution_count": 92,
   "id": "dcd07e13",
   "metadata": {},
   "outputs": [],
   "source": [
    "import matplotlib.pyplot as plt\n",
    "from matplotlib.animation import FuncAnimation\n",
    "import numpy as np\n",
    "import math"
   ]
  },
  {
   "cell_type": "code",
   "execution_count": 93,
   "id": "d67469ad",
   "metadata": {},
   "outputs": [],
   "source": [
    "H = 75\n",
    "W = 75\n",
    "R = 5 # radius of local flockmates\n",
    "v0 = 1 # speed of boids\n",
    "\n",
    "N = 500 # number of boids\n",
    "steps = 200"
   ]
  },
  {
   "cell_type": "code",
   "execution_count": 94,
   "id": "98a765cd",
   "metadata": {},
   "outputs": [],
   "source": [
    "# initialising positions\n",
    "x = W * np.random.rand(N, 1)\n",
    "y = H * np.random.rand(N, 1)\n",
    "\n",
    "#initialising velocity of each boid\n",
    "phi = 2 * np.pi * np.random.rand(N, 1)\n",
    "vx = v0 * np.cos(phi)\n",
    "vy = v0 * np.sin(phi)"
   ]
  },
  {
   "cell_type": "code",
   "execution_count": 95,
   "id": "92502566",
   "metadata": {},
   "outputs": [
    {
     "data": {
      "text/plain": [
       "(0.0, 76.0, 0.0, 76.0)"
      ]
     },
     "execution_count": 95,
     "metadata": {},
     "output_type": "execute_result"
    },
    {
     "data": {
      "image/png": "[encoded data removed]",
      "text/plain": [
       "<Figure size 432x288 with 1 Axes>"
      ]
     },
     "metadata": {
      "needs_background": "light"
     },
     "output_type": "display_data"
    }
   ],
   "source": [
    "fig, ax = plt.subplots()\n",
    "ax.set_xlim(0, W + 1)\n",
    "ax.set_ylim(0, H + 1)\n",
    "ax.set_aspect('equal')\n",
    "plt.axis('off')"
   ]
  },
  {
   "cell_type": "code",
   "execution_count": 96,
   "id": "91e799b3",
   "metadata": {},
   "outputs": [],
   "source": [
    "boids = []\n",
    "for i in range(N):\n",
    "    boid, = ax.plot([], [], 'ko', markersize=1)\n",
    "    boids.append(boid)"
   ]
  },
  {
   "cell_type": "code",
   "execution_count": 97,
   "id": "caa4a06c",
   "metadata": {},
   "outputs": [],
   "source": [
    "def update(steps):\n",
    "    \n",
    "    for i in range(N):\n",
    "        \n",
    "        localz = (x-x[i])**2+(y-y[i])**2 < R**2\n",
    "        \n",
    "        localz[i] = False\n",
    "        \n",
    "        if True not in localz:\n",
    "            phi[i] += 0.1*np.random.rand()\n",
    "            \n",
    "            vx[i] = v0*np.cos(phi[i])\n",
    "            \n",
    "            vy[i] = v0*np.sin(phi[i])\n",
    "            \n",
    "            x[i] += vx[i]\n",
    "            y[i] += vy[i]\n",
    "            \n",
    "            continue\n",
    "\n",
    "#         separation_x = x[i] - np.sum(x[localz])\n",
    "#         separation_y = y[i] - np.sum(y[localz])\n",
    "        \n",
    "        separation = np.transpose(np.array([x[i] - np.sum(x[localz]), y[i] - np.sum(y[localz])]))[0]\n",
    "        separation /= np.linalg.norm(separation)\n",
    "\n",
    "#         alignment_x = np.mean(np.cos(phi[localz]))\n",
    "#         alignment_y = np.mean(np.sin(phi[localz]))\n",
    "        \n",
    "        alignment = np.array([np.mean(np.cos(phi[localz])), np.mean(np.sin(phi[localz]))])\n",
    "        \n",
    "#         cohesion_x = np.mean(x[localz])\n",
    "#         cohesion_y = np.mean(y[localz])\n",
    "        \n",
    "        cohesion = np.array([np.mean(x[localz]), np.mean(y[localz])])\n",
    "        cohesion /= np.linalg.norm(cohesion)\n",
    "        \n",
    "#         move_x = separation_x + alignment_x + cohesion_x\n",
    "#         move_y = separation_y + alignment_y + cohesion_y\n",
    "\n",
    "        move = separation + alignment + cohesion\n",
    "    \n",
    "#         phi[i] = math.atan2(move_y, move_x)\n",
    "\n",
    "        phi[i] = math.atan2(move[1], move[0]) + 0.1*np.random.rand()\n",
    "        \n",
    "        vx[i] = v0*np.cos(phi[i])\n",
    "        vy[i] = v0*np.sin(phi[i])\n",
    "        \n",
    "        x[i] += vx[i]\n",
    "        y[i] += vy[i]\n",
    "        \n",
    "        boids[i].set_data([x[i], y[i]])\n",
    "    \n",
    "    corneredx1 = (x > W - 3)\n",
    "    corneredx2 = (x < 3)\n",
    "    corneredx = np.logical_or(corneredx1, corneredx2)\n",
    "    corneredy1 = (y > H - 3)\n",
    "    corneredy2 = (y < 3)\n",
    "    corneredy = np.logical_or(corneredy1, corneredy2)\n",
    "\n",
    "    cornered = np.logical_or(corneredx, corneredy)\n",
    "         \n",
    "    phi[cornered] += math.pi\n",
    "   \n",
    "    return boids\n"
   ]
  },
  {
   "cell_type": "code",
   "execution_count": 98,
   "id": "96c25870",
   "metadata": {},
   "outputs": [],
   "source": [
    "anim = FuncAnimation(fig, update, frames=steps, interval=0)"
   ]
  },
  {
   "cell_type": "code",
   "execution_count": 99,
   "id": "7f2da5c9",
   "metadata": {},
   "outputs": [
    {
     "name": "stderr",
     "output_type": "stream",
     "text": [
      "MovieWriter Pillow unavailable; using Pillow instead.\n"
     ]
    }
   ],
   "source": [
    "anim.save(\"murrurtesst.gif\", writer=\"Pillow\", fps=10)"
   ]
  }
 ],
 "metadata": {
  "kernelspec": {
   "display_name": "Python 3 (ipykernel)",
   "language": "python",
   "name": "python3"
  },
  "language_info": {
   "codemirror_mode": {
    "name": "ipython",
    "version": 3
   },
   "file_extension": ".py",
   "mimetype": "text/x-python",
   "name": "python",
   "nbconvert_exporter": "python",
   "pygments_lexer": "ipython3",
   "version": "3.9.7"
  }
 },
 "nbformat": 4,
 "nbformat_minor": 5
}
